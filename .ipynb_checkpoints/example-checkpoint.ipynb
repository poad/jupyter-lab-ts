{
 "cells": [
  {
   "cell_type": "code",
   "execution_count": 1,
   "id": "c2b0dd80-e4a0-40a7-8bb3-d4389c5bcc63",
   "metadata": {},
   "outputs": [],
   "source": [
    "import * as tslab from 'tslab';"
   ]
  },
  {
   "cell_type": "code",
   "execution_count": 2,
   "id": "b18fb8fe-fa2a-4fac-8c54-0229b849b39d",
   "metadata": {},
   "outputs": [
    {
     "name": "stdout",
     "output_type": "stream",
     "text": [
      "{ tslab: \u001b[32m'1.0.22'\u001b[39m, typescript: \u001b[32m'5.0.4'\u001b[39m, node: \u001b[32m'v22.11.0'\u001b[39m }\n"
     ]
    }
   ],
   "source": [
    "tslab.versions"
   ]
  },
  {
   "cell_type": "code",
   "execution_count": null,
   "id": "51378bdb-d443-47b6-8c40-4933433ea6c1",
   "metadata": {},
   "outputs": [],
   "source": []
  }
 ],
 "metadata": {
  "kernelspec": {
   "display_name": "TypeScript",
   "language": "typescript",
   "name": "tslab"
  },
  "language_info": {
   "codemirror_mode": {
    "mode": "typescript",
    "name": "javascript",
    "typescript": true
   },
   "file_extension": ".ts",
   "mimetype": "text/typescript",
   "name": "typescript",
   "version": "3.7.2"
  }
 },
 "nbformat": 4,
 "nbformat_minor": 5
}
